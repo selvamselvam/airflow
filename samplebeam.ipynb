{
  "nbformat": 4,
  "nbformat_minor": 0,
  "metadata": {
    "colab": {
      "name": "samplebeam.ipynb",
      "provenance": [],
      "authorship_tag": "ABX9TyPKx5QkjLNsT+wHvQhnbpS/",
      "include_colab_link": true
    },
    "kernelspec": {
      "name": "python3",
      "display_name": "Python 3"
    }
  },
  "cells": [
    {
      "cell_type": "markdown",
      "metadata": {
        "id": "view-in-github",
        "colab_type": "text"
      },
      "source": [
        "<a href=\"https://colab.research.google.com/github/selvamselvam/apachebeam/blob/main/samplebeam.ipynb\" target=\"_parent\"><img src=\"https://colab.research.google.com/assets/colab-badge.svg\" alt=\"Open In Colab\"/></a>"
      ]
    },
    {
      "cell_type": "code",
      "metadata": {
        "id": "CLU8w8eWZ8w8"
      },
      "source": [
        "!pip3 install apache_beam"
      ],
      "execution_count": null,
      "outputs": []
    },
    {
      "cell_type": "code",
      "metadata": {
        "id": "rm68kAV1aDaf"
      },
      "source": [
        ""
      ],
      "execution_count": 2,
      "outputs": []
    },
    {
      "cell_type": "code",
      "metadata": {
        "id": "O9zkt1CJbdzW"
      },
      "source": [
        "import apache_beam as beam\r\n",
        "p1 = beam.Pipeline()\r\n",
        "movie_gt_4 =( p1 \r\n",
        "             |  beam.io.ReadFromText('movie_rating.txt',skip_header_lines=1)\r\n",
        "             |  beam.Map(lambda record: record.split(','))\r\n",
        "             |  beam.Filter(lambda record: float(record[2]) > 4)\r\n",
        "             |  beam.io.WriteToText('result.txt')\r\n",
        "             ) \r\n",
        "p1.run()\r\n",
        "                       "
      ],
      "execution_count": null,
      "outputs": []
    },
    {
      "cell_type": "code",
      "metadata": {
        "id": "gU3lXcU9dUDw"
      },
      "source": [
        ""
      ],
      "execution_count": null,
      "outputs": []
    }
  ]
}
